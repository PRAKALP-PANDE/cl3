{
 "cells": [
  {
   "cell_type": "code",
   "execution_count": 1,
   "metadata": {},
   "outputs": [
    {
     "name": "stdout",
     "output_type": "stream",
     "text": [
      "Best tour length: 261\n"
     ]
    }
   ],
   "source": [
    "import numpy as np\n",
    "\n",
    "# Parameters\n",
    "num_cities = 10\n",
    "num_ants = 100\n",
    "num_iterations = 1000\n",
    "alpha = 1\n",
    "beta = 2\n",
    "evaporation_rate = 0.1\n",
    "\n",
    "# Initialize pheromone matrix with small positive values\n",
    "pheromone_matrix = np.ones((num_cities, num_cities))\n",
    "\n",
    "# Initialize distance matrix (example with random distances)\n",
    "distance_matrix = np.random.randint(1, 100, size=(num_cities, num_cities))\n",
    "np.fill_diagonal(distance_matrix, 0)  # No distance from a city to itself\n",
    "\n",
    "# ACO algorithm\n",
    "for iteration in range(num_iterations):\n",
    "    # Ant movement and pheromone update\n",
    "    for ant in range(num_ants):\n",
    "        tour = []\n",
    "        visited = set()\n",
    "        current_city = np.random.randint(0, num_cities)\n",
    "        tour.append(current_city)\n",
    "        visited.add(current_city)\n",
    "        \n",
    "        for _ in range(num_cities - 1):\n",
    "            next_city_probabilities = [(pheromone_matrix[current_city][city] ** alpha) * ((1 / distance_matrix[current_city][city]) ** beta) if city not in visited else 0 for city in range(num_cities)]\n",
    "            next_city_probabilities /= np.sum(next_city_probabilities)\n",
    "            next_city = np.random.choice(num_cities, p=next_city_probabilities)\n",
    "            tour.append(next_city)\n",
    "            visited.add(next_city)\n",
    "            current_city = next_city\n",
    "        \n",
    "        # Update pheromone matrix\n",
    "        tour_length = sum(distance_matrix[tour[i]][tour[i+1]] for i in range(len(tour)-1))\n",
    "        pheromone_matrix += (1 / tour_length)\n",
    "\n",
    "    # Evaporation\n",
    "    pheromone_matrix *= (1 - evaporation_rate)\n",
    "\n",
    "# Find the best solution\n",
    "best_tour_length = np.inf\n",
    "for ant in range(num_ants):\n",
    "    tour_length = sum(distance_matrix[tour[i]][tour[i+1]] for i in range(len(tour)-1))\n",
    "    if tour_length < best_tour_length:\n",
    "        best_tour_length = tour_length\n",
    "\n",
    "print(\"Best tour length:\", best_tour_length)\n"
   ]
  },
  {
   "cell_type": "code",
   "execution_count": null,
   "metadata": {},
   "outputs": [],
   "source": []
  }
 ],
 "metadata": {
  "kernelspec": {
   "display_name": "base",
   "language": "python",
   "name": "python3"
  },
  "language_info": {
   "codemirror_mode": {
    "name": "ipython",
    "version": 3
   },
   "file_extension": ".py",
   "mimetype": "text/x-python",
   "name": "python",
   "nbconvert_exporter": "python",
   "pygments_lexer": "ipython3",
   "version": "3.11.5"
  }
 },
 "nbformat": 4,
 "nbformat_minor": 2
}
